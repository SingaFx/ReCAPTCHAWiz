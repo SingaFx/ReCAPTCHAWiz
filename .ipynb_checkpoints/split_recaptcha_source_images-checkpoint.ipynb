{
 "cells": [
  {
   "cell_type": "code",
   "execution_count": 36,
   "metadata": {
    "collapsed": true
   },
   "outputs": [],
   "source": [
    "from PIL import Image\n",
    "import os\n",
    "import hashlib\n",
    "from collections import defaultdict"
   ]
  },
  {
   "cell_type": "code",
   "execution_count": 28,
   "metadata": {
    "collapsed": true
   },
   "outputs": [],
   "source": [
    "# crop images and save to directory\n",
    "\n",
    "def crop(filename, height, width):\n",
    "    im = Image.open(filename)\n",
    "    imgwidth, imgheight = im.size\n",
    "    im_list = []\n",
    "    \n",
    "#     create filename for proper naming in folder\n",
    "    filename = filename.split('/')[-1]\n",
    "    filename = filename.split('.')[0]\n",
    "    \n",
    "    k = 0\n",
    "    for i in range(0,imgheight,height):\n",
    "        for j in range(0,imgwidth,width):\n",
    "            box = (j, i, j+width, i+height)\n",
    "            a = im.crop(box)\n",
    "            a.save('mountains_unsorted/%s_%s.jpg' % (filename, k))\n",
    "            im_list.append(a)\n",
    "            k += 1\n",
    "    return im_list"
   ]
  },
  {
   "cell_type": "code",
   "execution_count": 29,
   "metadata": {
    "collapsed": false
   },
   "outputs": [],
   "source": [
    "# loop through file names in directory (for mountain pics)\n",
    "\n",
    "directory = 'recaptchapics_source/mountains/'\n",
    "\n",
    "# sub-image dimensions\n",
    "height = 100\n",
    "width = 100\n",
    "\n",
    "\n",
    "for f in os.listdir(directory):\n",
    "    if not f.startswith('.'):\n",
    "        file_path = os.path.join(directory, f)\n",
    "        crop(file_path, height, width)"
   ]
  },
  {
   "cell_type": "code",
   "execution_count": 33,
   "metadata": {
    "collapsed": true
   },
   "outputs": [],
   "source": [
    "# check and remove duplicate images\n",
    "\n",
    "def md5(fname):\n",
    "    hash_md5 = hashlib.md5()\n",
    "    with open(fname, \"rb\") as f:\n",
    "        for chunk in iter(lambda: f.read(4096), b\"\"):\n",
    "            hash_md5.update(chunk)\n",
    "    return hash_md5.hexdigest()"
   ]
  },
  {
   "cell_type": "code",
   "execution_count": 34,
   "metadata": {
    "collapsed": false
   },
   "outputs": [
    {
     "data": {
      "text/plain": [
       "'ec6698a5097c0b66a47c55632ff0df60'"
      ]
     },
     "execution_count": 34,
     "metadata": {},
     "output_type": "execute_result"
    }
   ],
   "source": [
    "# test checksum\n",
    "f = 'mountains_data/other/mountains1_6.jpg'\n",
    "md5(f)"
   ]
  },
  {
   "cell_type": "code",
   "execution_count": 58,
   "metadata": {
    "collapsed": false
   },
   "outputs": [],
   "source": [
    "# create dict of files to see duplicates (key is hash, values are filenames)\n",
    "\n",
    "directory = 'mountains_unsorted/'\n",
    "files_d = defaultdict(list)\n",
    "\n",
    "for f in os.listdir(directory):\n",
    "    if not f.startswith('.'):\n",
    "        file_path = os.path.join(directory, f)\n",
    "        checksum = md5(file_path)\n",
    "        files_d[checksum].append(f)"
   ]
  },
  {
   "cell_type": "code",
   "execution_count": 59,
   "metadata": {
    "collapsed": false
   },
   "outputs": [],
   "source": [
    "for k,v in files_d.items():\n",
    "    if len(v) > 1:\n",
    "#         print(k, files_d[k])\n",
    "        files_d[k] = [v[0]]"
   ]
  },
  {
   "cell_type": "code",
   "execution_count": 60,
   "metadata": {
    "collapsed": false
   },
   "outputs": [
    {
     "data": {
      "text/plain": [
       "10170"
      ]
     },
     "execution_count": 60,
     "metadata": {},
     "output_type": "execute_result"
    }
   ],
   "source": [
    "len(files_d)"
   ]
  },
  {
   "cell_type": "code",
   "execution_count": 62,
   "metadata": {
    "collapsed": false
   },
   "outputs": [],
   "source": [
    "# for k, v in files_d.items():\n",
    "#     print(k, v)"
   ]
  },
  {
   "cell_type": "code",
   "execution_count": 63,
   "metadata": {
    "collapsed": false
   },
   "outputs": [],
   "source": [
    "files_to_keep = [v[0] for _,v in files_d.items()]"
   ]
  },
  {
   "cell_type": "code",
   "execution_count": 64,
   "metadata": {
    "collapsed": false
   },
   "outputs": [
    {
     "data": {
      "text/plain": [
       "['mountains1137_1.jpg',\n",
       " 'mountains3411_1.jpg',\n",
       " 'mountains690_8.jpg',\n",
       " 'mountains497_1.jpg',\n",
       " 'mountains118_4.jpg',\n",
       " 'mountains423_4.jpg',\n",
       " 'mountains99_8.jpg',\n",
       " 'mountains2217_3.jpg',\n",
       " 'mountains2772_8.jpg',\n",
       " 'mountains3371_8.jpg',\n",
       " 'mountains1241_3.jpg',\n",
       " 'mountains3042_6.jpg']"
      ]
     },
     "execution_count": 64,
     "metadata": {},
     "output_type": "execute_result"
    }
   ],
   "source": [
    "files_to_keep[:12]"
   ]
  },
  {
   "cell_type": "code",
   "execution_count": 67,
   "metadata": {
    "collapsed": false
   },
   "outputs": [],
   "source": [
    "# remove files not in files_to_keep (duplicates)\n",
    "\n",
    "directory = 'mountains_unsorted/'\n",
    "\n",
    "for f in os.listdir(directory):\n",
    "    file_path = os.path.join(directory, f)\n",
    "    if not f.startswith('.'):\n",
    "        if f not in files_to_keep:\n",
    "            os.remove(file_path)"
   ]
  },
  {
   "cell_type": "code",
   "execution_count": null,
   "metadata": {
    "collapsed": true
   },
   "outputs": [],
   "source": []
  }
 ],
 "metadata": {
  "kernelspec": {
   "display_name": "Python 3.5 env",
   "language": "python",
   "name": "py35"
  },
  "language_info": {
   "codemirror_mode": {
    "name": "ipython",
    "version": 3
   },
   "file_extension": ".py",
   "mimetype": "text/x-python",
   "name": "python",
   "nbconvert_exporter": "python",
   "pygments_lexer": "ipython3",
   "version": "3.5.2"
  }
 },
 "nbformat": 4,
 "nbformat_minor": 2
}
