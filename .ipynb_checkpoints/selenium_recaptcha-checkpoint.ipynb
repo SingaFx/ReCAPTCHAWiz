{
 "cells": [
  {
   "cell_type": "code",
   "execution_count": 16,
   "metadata": {
    "collapsed": false
   },
   "outputs": [
    {
     "ename": "ImportError",
     "evalue": "No module named 'pydub'",
     "output_type": "error",
     "traceback": [
      "\u001b[0;31m---------------------------------------------------------------------------\u001b[0m",
      "\u001b[0;31mImportError\u001b[0m                               Traceback (most recent call last)",
      "\u001b[0;32m<ipython-input-16-542058731f6c>\u001b[0m in \u001b[0;36m<module>\u001b[0;34m()\u001b[0m\n\u001b[1;32m      7\u001b[0m \u001b[0;34m\u001b[0m\u001b[0m\n\u001b[1;32m      8\u001b[0m \u001b[0;31m# Speech Recognition Imports\u001b[0m\u001b[0;34m\u001b[0m\u001b[0;34m\u001b[0m\u001b[0m\n\u001b[0;32m----> 9\u001b[0;31m \u001b[0;32mfrom\u001b[0m \u001b[0mpydub\u001b[0m \u001b[0;32mimport\u001b[0m \u001b[0mAudioSegment\u001b[0m\u001b[0;34m\u001b[0m\u001b[0m\n\u001b[0m\u001b[1;32m     10\u001b[0m \u001b[0;32mimport\u001b[0m \u001b[0mspeech_recognition\u001b[0m \u001b[0;32mas\u001b[0m \u001b[0msr\u001b[0m\u001b[0;34m\u001b[0m\u001b[0m\n\u001b[1;32m     11\u001b[0m \u001b[0;34m\u001b[0m\u001b[0m\n",
      "\u001b[0;31mImportError\u001b[0m: No module named 'pydub'"
     ]
    }
   ],
   "source": [
    "import requests\n",
    "import io\n",
    "import random\n",
    "import time\n",
    "import os\n",
    "import sys\n",
    "\n",
    "# Speech Recognition Imports\n",
    "from pydub import AudioSegment\n",
    "import speech_recognition as sr\n",
    "\n",
    "# Selenium\n",
    "from selenium.webdriver.firefox.firefox_binary import FirefoxBinary\n",
    "from selenium.common.exceptions import NoSuchElementException\n",
    "from selenium import webdriver\n"
   ]
  },
  {
   "cell_type": "code",
   "execution_count": 12,
   "metadata": {
    "collapsed": true
   },
   "outputs": [],
   "source": [
    "# Randomization Related\n",
    "MIN_RAND        = 0.64\n",
    "MAX_RAND        = 1.27\n",
    "LONG_MIN_RAND   = 4.78\n",
    "LONG_MAX_RAND   = 11.1\n",
    "\n",
    "NUMBER_OF_ITERATIONS = 100\n",
    "RECAPTCHA_PAGE_URL = \"https://www.google.com/recaptcha/api2/demo\""
   ]
  },
  {
   "cell_type": "code",
   "execution_count": 15,
   "metadata": {
    "collapsed": false
   },
   "outputs": [
    {
     "ename": "NameError",
     "evalue": "name 'webdriver' is not defined",
     "output_type": "error",
     "traceback": [
      "\u001b[0;31m---------------------------------------------------------------------------\u001b[0m",
      "\u001b[0;31mNameError\u001b[0m                                 Traceback (most recent call last)",
      "\u001b[0;32m<ipython-input-15-af19b22d4d51>\u001b[0m in \u001b[0;36m<module>\u001b[0;34m()\u001b[0m\n\u001b[1;32m      4\u001b[0m \u001b[0mPROXY\u001b[0m \u001b[0;34m=\u001b[0m \u001b[0;34m'http://us-ny.proxymesh.com:31280'\u001b[0m\u001b[0;34m\u001b[0m\u001b[0m\n\u001b[1;32m      5\u001b[0m \u001b[0;34m\u001b[0m\u001b[0m\n\u001b[0;32m----> 6\u001b[0;31m \u001b[0mchrome_options\u001b[0m \u001b[0;34m=\u001b[0m \u001b[0mwebdriver\u001b[0m\u001b[0;34m.\u001b[0m\u001b[0mChromeOptions\u001b[0m\u001b[0;34m(\u001b[0m\u001b[0;34m)\u001b[0m\u001b[0;34m\u001b[0m\u001b[0m\n\u001b[0m\u001b[1;32m      7\u001b[0m \u001b[0mchrome_options\u001b[0m\u001b[0;34m.\u001b[0m\u001b[0madd_argument\u001b[0m\u001b[0;34m(\u001b[0m\u001b[0;34m'--proxy-server=%s'\u001b[0m \u001b[0;34m%\u001b[0m \u001b[0mPROXY\u001b[0m\u001b[0;34m)\u001b[0m\u001b[0;34m\u001b[0m\u001b[0m\n\u001b[1;32m      8\u001b[0m \u001b[0;34m\u001b[0m\u001b[0m\n",
      "\u001b[0;31mNameError\u001b[0m: name 'webdriver' is not defined"
     ]
    }
   ],
   "source": [
    "chromedriver = \"/Applications/chromedriver\"\n",
    "os.environ[\"webdriver.chrome.driver\"] = chromedriver\n",
    "\n",
    "PROXY = 'http://us-ny.proxymesh.com:31280'\n",
    "\n",
    "chrome_options = webdriver.ChromeOptions()\n",
    "chrome_options.add_argument('--proxy-server=%s' % PROXY)\n",
    "\n",
    "driver = webdriver.Chrome(chromedriver, chrome_options=chrome_options)"
   ]
  },
  {
   "cell_type": "code",
   "execution_count": 9,
   "metadata": {
    "collapsed": false
   },
   "outputs": [
    {
     "ename": "NameError",
     "evalue": "name 'driver' is not defined",
     "output_type": "error",
     "traceback": [
      "\u001b[0;31m---------------------------------------------------------------------------\u001b[0m",
      "\u001b[0;31mNameError\u001b[0m                                 Traceback (most recent call last)",
      "\u001b[0;32m<ipython-input-9-c2ac4557578b>\u001b[0m in \u001b[0;36m<module>\u001b[0;34m()\u001b[0m\n\u001b[1;32m      1\u001b[0m \u001b[0;31m# open recaptcha demo page\u001b[0m\u001b[0;34m\u001b[0m\u001b[0;34m\u001b[0m\u001b[0m\n\u001b[0;32m----> 2\u001b[0;31m \u001b[0mdriver\u001b[0m\u001b[0;34m.\u001b[0m\u001b[0mget\u001b[0m\u001b[0;34m(\u001b[0m\u001b[0mRECAPTCHA_PAGE_URL\u001b[0m\u001b[0;34m)\u001b[0m\u001b[0;34m\u001b[0m\u001b[0m\n\u001b[0m",
      "\u001b[0;31mNameError\u001b[0m: name 'driver' is not defined"
     ]
    }
   ],
   "source": [
    "# open recaptcha demo page\n",
    "driver.get(RECAPTCHA_PAGE_URL)"
   ]
  },
  {
   "cell_type": "code",
   "execution_count": 10,
   "metadata": {
    "collapsed": false
   },
   "outputs": [
    {
     "ename": "NameError",
     "evalue": "name 'driver' is not defined",
     "output_type": "error",
     "traceback": [
      "\u001b[0;31m---------------------------------------------------------------------------\u001b[0m",
      "\u001b[0;31mNameError\u001b[0m                                 Traceback (most recent call last)",
      "\u001b[0;32m<ipython-input-10-15a973a45f0b>\u001b[0m in \u001b[0;36m<module>\u001b[0;34m()\u001b[0m\n\u001b[1;32m      1\u001b[0m \u001b[0;31m# get iframes (embedded html doc within parent html)\u001b[0m\u001b[0;34m\u001b[0m\u001b[0;34m\u001b[0m\u001b[0m\n\u001b[0;32m----> 2\u001b[0;31m \u001b[0miframes\u001b[0m \u001b[0;34m=\u001b[0m \u001b[0mdriver\u001b[0m\u001b[0;34m.\u001b[0m\u001b[0mfind_elements_by_tag_name\u001b[0m\u001b[0;34m(\u001b[0m\u001b[0;34m\"iframe\"\u001b[0m\u001b[0;34m)\u001b[0m\u001b[0;34m\u001b[0m\u001b[0m\n\u001b[0m\u001b[1;32m      3\u001b[0m \u001b[0miframes\u001b[0m\u001b[0;34m\u001b[0m\u001b[0m\n",
      "\u001b[0;31mNameError\u001b[0m: name 'driver' is not defined"
     ]
    }
   ],
   "source": [
    "# get iframes (embedded html doc within parent html)\n",
    "iframes = driver.find_elements_by_tag_name(\"iframe\")\n",
    "iframes"
   ]
  },
  {
   "cell_type": "code",
   "execution_count": 6,
   "metadata": {
    "collapsed": false
   },
   "outputs": [],
   "source": [
    "driver.switch_to_frame(iframes[0])"
   ]
  },
  {
   "cell_type": "code",
   "execution_count": 7,
   "metadata": {
    "collapsed": false
   },
   "outputs": [],
   "source": [
    "# click I'm not a robot checkbox\n",
    "driver.find_element_by_xpath('//div[@class=\"recaptcha-checkbox-checkmark\" and @role=\"presentation\"]').click()"
   ]
  },
  {
   "cell_type": "code",
   "execution_count": 8,
   "metadata": {
    "collapsed": true
   },
   "outputs": [],
   "source": [
    "time.sleep(random.uniform(LONG_MIN_RAND, LONG_MAX_RAND))"
   ]
  },
  {
   "cell_type": "code",
   "execution_count": 9,
   "metadata": {
    "collapsed": true
   },
   "outputs": [],
   "source": [
    "driver.switch_to.default_content()"
   ]
  },
  {
   "cell_type": "code",
   "execution_count": 10,
   "metadata": {
    "collapsed": false
   },
   "outputs": [
    {
     "data": {
      "text/plain": [
       "[<selenium.webdriver.remote.webelement.WebElement (session=\"10b1c5424ab3d94e3c1bafa3055f6e2a\", element=\"0.48200865345464994-1\")>,\n",
       " <selenium.webdriver.remote.webelement.WebElement (session=\"10b1c5424ab3d94e3c1bafa3055f6e2a\", element=\"0.48200865345464994-2\")>]"
      ]
     },
     "execution_count": 10,
     "metadata": {},
     "output_type": "execute_result"
    }
   ],
   "source": [
    "# reload iframes\n",
    "iframes = driver.find_elements_by_tag_name(\"iframe\")\n",
    "iframes"
   ]
  },
  {
   "cell_type": "code",
   "execution_count": 11,
   "metadata": {
    "collapsed": false
   },
   "outputs": [],
   "source": [
    "# get second (last) iframe once picture challenge is loaded\n",
    "driver.switch_to_frame(iframes[-1])"
   ]
  },
  {
   "cell_type": "code",
   "execution_count": 12,
   "metadata": {
    "collapsed": false
   },
   "outputs": [],
   "source": [
    "# click image\n",
    "# table = driver.find_element_by_xpath('//tbody/tr/td[3]').click()"
   ]
  },
  {
   "cell_type": "code",
   "execution_count": 13,
   "metadata": {
    "collapsed": false
   },
   "outputs": [],
   "source": [
    "# get table click regions\n",
    "table = driver.find_elements_by_xpath('//tbody/tr/td')\n",
    "# table[0].click()"
   ]
  },
  {
   "cell_type": "code",
   "execution_count": 14,
   "metadata": {
    "collapsed": false
   },
   "outputs": [],
   "source": [
    "# click refresh button\n",
    "driver.find_element_by_xpath('//button[@id=\"recaptcha-reload-button\"]').click()"
   ]
  },
  {
   "cell_type": "code",
   "execution_count": 468,
   "metadata": {
    "collapsed": false
   },
   "outputs": [
    {
     "data": {
      "text/plain": [
       "[<selenium.webdriver.remote.webelement.WebElement (session=\"442e462cc71f8c4eb8a032169199a103\", element=\"0.40667747130052034-21\")>,\n",
       " <selenium.webdriver.remote.webelement.WebElement (session=\"442e462cc71f8c4eb8a032169199a103\", element=\"0.40667747130052034-22\")>,\n",
       " <selenium.webdriver.remote.webelement.WebElement (session=\"442e462cc71f8c4eb8a032169199a103\", element=\"0.40667747130052034-23\")>,\n",
       " <selenium.webdriver.remote.webelement.WebElement (session=\"442e462cc71f8c4eb8a032169199a103\", element=\"0.40667747130052034-24\")>,\n",
       " <selenium.webdriver.remote.webelement.WebElement (session=\"442e462cc71f8c4eb8a032169199a103\", element=\"0.40667747130052034-25\")>,\n",
       " <selenium.webdriver.remote.webelement.WebElement (session=\"442e462cc71f8c4eb8a032169199a103\", element=\"0.40667747130052034-26\")>,\n",
       " <selenium.webdriver.remote.webelement.WebElement (session=\"442e462cc71f8c4eb8a032169199a103\", element=\"0.40667747130052034-27\")>,\n",
       " <selenium.webdriver.remote.webelement.WebElement (session=\"442e462cc71f8c4eb8a032169199a103\", element=\"0.40667747130052034-28\")>,\n",
       " <selenium.webdriver.remote.webelement.WebElement (session=\"442e462cc71f8c4eb8a032169199a103\", element=\"0.40667747130052034-29\")>]"
      ]
     },
     "execution_count": 468,
     "metadata": {},
     "output_type": "execute_result"
    }
   ],
   "source": [
    "pictures = driver.find_elements_by_xpath('//img[@class=\"rc-image-tile-33\"]')\n",
    "pictures"
   ]
  },
  {
   "cell_type": "code",
   "execution_count": 469,
   "metadata": {
    "collapsed": false
   },
   "outputs": [
    {
     "data": {
      "text/plain": [
       "u'https://www.google.com/recaptcha/api2/payload?c=03AI-r6f6U1NnZLDRn6izoMZO92hX_HDBgv3Mu4l6pVb0eCpd4VjMLUtkaunzUk2mAUtIz27nroQtrGTxbgYb81AW111y7iid62plQWaYhghNOUY_X1HDdvojluLyeSAvWJqryc9njV8NaK1NQKKIZDtbvcmT1LUmXDl-jp5enz0NKiSXR6D8tvwQEP5emt-aOxBQBcKOVXldIHn93isMC1ZgyiePbxyDOx4yktcvc16mxUTkNwZu2YnmnXqjyhEjxJU8csZeXS9nIQdihbxI8ABc9Af76I2kWQky1tudkPzTchtD7SiqkQhy2b9SLhi3gpLzQhjh3pQVKtW1LLd6MMfmMmCla3RNKtRQ6WOSAvuzI8ROYy_mmtfGz8Ee7AvPzFSQ_NmMZ5zUkJpsfQdTAQSFmtYvqLvq2WqkH4mWuHGaDfd1VOdpoxgLMe6uQGBP88f8uUv3VISsel_7Nb74tt8j3H_pA3O_kcB2YA172jceF5z2MCPlzGNd-jfH9BpVWiU28gz2ijP2_UbbwG1JRs5ea9LLqJ4TQIedGprdswYolbW4oxl46FFYMpko9Hcq1yAhc_7TIzLLNnoeytU1fpLfPuL5f5I_GcUE_ujcy3Hm1ia_H4aCiOBN_boEzoU_eJpz8n4OeBLjph3n_9b24tZ4ETjXoiqUPsxuGxDLEqNkH3qsR99fcp82Uj5L4Y4xy3Ft4BkZeJa6oPh9ObfvtfzeHFGQJbrTiZHp1DC6c51ylcUshElNQOyvj10TRcLxhk5v2cL-pIqLygR3ZaafezoohJ6hsVKcswrc_S8eZDvlQbZym7I6X_YpVMcCHsoqH_hUKOqWZWMv7TF14793xhcMtcFlLxJSZt2lo2fKCXeQHsWCNkMc7bjA9nWXlL6Ab97fPpvIlpGcUHYhqhUBps6kfZLK-kzq2rh2NBbikVH97KG8Najx_zKtWSSPqoqFlT5wPKYE12G5FILcP7yH2hXR59oP1mHZ23hLJVvoyK7_QVmEd7Zw1aTmitdCTJE8M5H9SY0-5-qg3nVg5RCBNXCB6ziYuoJAtXSSTIrOPAJjCOXzkbdBBRIReN9Hp6IVykm6Obb9gyhFK4MRgY3dbwA-Qy3JDybyPY1BEzJ8onaj9QmM5z6YvbllyRBEf7jtEkYegviNHrmoY05kDCIS4koxP0lj3Maat2IrQxCCCmbItAOWGTyMtomOdr_wqdrTITdoVLGw_NEsMdlaS72EkYrXwqZnLTX8HHhRtxeQoBM0AbaODafUGiNUGsHKW1aUSVVVuMmiBk_4ZQK_aLH0t6WbnqxjQw-94MHrgSOHviir6aklZbF1Wujkj531M7SWNl6tiG48mP7DU2tBnMn46HGxj4Prh8n1OwF89XnAqbdyx9ITVf90tLyhOwlE7mpbm1VySzt27vOrcVf-awBv6E4NPwW8fYUOmpmIZCZGtBZQlaxqT08-NL2krM3f1oOLp6DOwo87d78I0jFtA_MXIR96AgV17C12zLP9-SW0VUpbPcJf4R0VlaYWFm_-oemt8dqAcuDzEx3R7O2Pjpy1jEVNJRaMMoN_9m2GvrZqIzTwMDfxz_d9QlvYa1yMOFnW8pJxU06aHpxlQLgqIKpH0N2odgUPy79edhKeVIDXg4n83z_YA1arwMtuqaqoQiDqzZMm4kuDaJJdEdEpJ-gDZK8mc62tsmJcEKLztLqZXaqFyr8HBw0acs9qOAefH-uFWbbie5fPUDvmIEWCAEdee5vD5F7iN8Oy57kwotuzfX-0hupRa6iw0J7NkyCLv4bBgqk7frEcTHOTWwLAP3Q83I7QnMh2s4oVp7ec2fJJNoh13wJamayzwa_BFB2gGTrOKk8gy3GLtZ77XZs1ImZ7TQzg0BC7aCoHpqLlz0gv9nyDmyJg2o9cQxqqrAmEAuE7sYAbZWmqddhbB43L2yznxXo1uH9EG6EmVD5SSiYUHTsUAoFuV8LC_kdnE2xuHH_iENnjqDapAGuubYfMicA84lAiEgfhkoqD-wbSFR4W4iqHDnqJcbmI81pf6uUstusutqkpOk-YY7lqLjvXg1HU5GZpAr4LySaF2XWe7gqRisZ7Wjh3Z3pJEluU3LWBMAK2YeFM5osYX7FsB7sANaCwfv6NHe7cbLEx_dg&k=6Le-wvkSAAAAAPBMRTvw0Q4Muexq9bi0DJwx_mJ-'"
      ]
     },
     "execution_count": 469,
     "metadata": {},
     "output_type": "execute_result"
    }
   ],
   "source": [
    "pictures[0].get_attribute('src')"
   ]
  },
  {
   "cell_type": "code",
   "execution_count": null,
   "metadata": {
    "collapsed": true
   },
   "outputs": [],
   "source": []
  }
 ],
 "metadata": {
  "kernelspec": {
   "display_name": "Python 3",
   "language": "python",
   "name": "python3"
  },
  "language_info": {
   "codemirror_mode": {
    "name": "ipython",
    "version": 3
   },
   "file_extension": ".py",
   "mimetype": "text/x-python",
   "name": "python",
   "nbconvert_exporter": "python",
   "pygments_lexer": "ipython3",
   "version": "3.5.2"
  }
 },
 "nbformat": 4,
 "nbformat_minor": 0
}
