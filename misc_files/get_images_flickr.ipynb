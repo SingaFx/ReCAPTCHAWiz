{
 "cells": [
  {
   "cell_type": "code",
   "execution_count": 19,
   "metadata": {
    "collapsed": true
   },
   "outputs": [],
   "source": [
    "import requests\n",
    "import xml.etree.ElementTree as ET\n",
    "from collections import defaultdict\n",
    "import urllib.request"
   ]
  },
  {
   "cell_type": "code",
   "execution_count": 2,
   "metadata": {
    "collapsed": true
   },
   "outputs": [],
   "source": [
    "api_key = '4262958055edd7856a5b7e0cd131cca4'\n",
    "base_url = 'https://api.flickr.com/services/rest/?method='"
   ]
  },
  {
   "cell_type": "code",
   "execution_count": 3,
   "metadata": {
    "collapsed": false
   },
   "outputs": [
    {
     "name": "stdout",
     "output_type": "stream",
     "text": [
      "https://api.flickr.com/services/rest/?method=flickr.test.echo&api_key=4262958055edd7856a5b7e0cd131cca4\n",
      "<?xml version=\"1.0\" encoding=\"utf-8\" ?>\n",
      "<rsp stat=\"ok\">\n",
      "<method>flickr.test.echo</method>\n",
      "<api_key>4262958055edd7856a5b7e0cd131cca4</api_key>\n",
      "</rsp>\n",
      "\n"
     ]
    }
   ],
   "source": [
    "# test\n",
    "url = 'https://api.flickr.com/services/rest/?method=flickr.test.echo&api_key=' + api_key\n",
    "print(url)\n",
    "response = requests.get(url)\n",
    "print(response.text)"
   ]
  },
  {
   "cell_type": "markdown",
   "metadata": {},
   "source": [
    "## Mountain Photos"
   ]
  },
  {
   "cell_type": "code",
   "execution_count": 67,
   "metadata": {
    "collapsed": false
   },
   "outputs": [],
   "source": [
    "# get photos by search (tags=mountains, per_page=1000, page=2)\n",
    "\n",
    "def page_search_photos(page, tag='mountains', api_key='4262958055edd7856a5b7e0cd131cca4'):\n",
    "    page = str(page)\n",
    "    photo_attributes = []\n",
    "    method = 'flickr.photos.search&api_key=' + api_key + '&tags=' + tag + '&per_page=1000&page=' + \\\n",
    "    page + '&format=rest'\n",
    "    response = requests.get(base_url + method)\n",
    "    root = ET.fromstring(response.text)\n",
    "    for page in root:\n",
    "        for photo in page:\n",
    "    #         print(photo.tag, photo.attrib)\n",
    "            photo_id = photo.get('id')\n",
    "            secret = photo.get('secret')\n",
    "            server_id = photo.get('server')\n",
    "            farm_id = photo.get('farm')\n",
    "            photo_attributes.append((photo_id, [secret, server_id, farm_id]))\n",
    "    return photo_attributes"
   ]
  },
  {
   "cell_type": "code",
   "execution_count": 68,
   "metadata": {
    "collapsed": false
   },
   "outputs": [],
   "source": [
    "# create list of urls for range of pages\n",
    "page_search_photos_list = []\n",
    "for i in range(3, 10):\n",
    "    page_search_photos_list.extend(page_search_photos(i))"
   ]
  },
  {
   "cell_type": "code",
   "execution_count": 59,
   "metadata": {
    "collapsed": false
   },
   "outputs": [
    {
     "data": {
      "text/plain": [
       "3500"
      ]
     },
     "execution_count": 59,
     "metadata": {},
     "output_type": "execute_result"
    }
   ],
   "source": [
    "# check length\n",
    "len(page_search_photos_list)"
   ]
  },
  {
   "cell_type": "code",
   "execution_count": 60,
   "metadata": {
    "collapsed": true
   },
   "outputs": [],
   "source": [
    "# make dict of photo attributes from list of urls\n",
    "photo_dict = dict(page_search_photos_list)"
   ]
  },
  {
   "cell_type": "code",
   "execution_count": 61,
   "metadata": {
    "collapsed": false
   },
   "outputs": [
    {
     "data": {
      "text/plain": [
       "3465"
      ]
     },
     "execution_count": 61,
     "metadata": {},
     "output_type": "execute_result"
    }
   ],
   "source": [
    "# check length\n",
    "len(photo_dict)"
   ]
  },
  {
   "cell_type": "code",
   "execution_count": 62,
   "metadata": {
    "collapsed": false
   },
   "outputs": [],
   "source": [
    "# create url from photo ids and attributes\n",
    "def create_photo_url(farm, server_id, photo_id, secret, size='q'):\n",
    "    photo_url = 'https://farm' + farm + '.staticflickr.com/' + server_id + '/' + photo_id + '_' + secret + '_' + size\\\n",
    "    + '.jpg'\n",
    "    return photo_url"
   ]
  },
  {
   "cell_type": "code",
   "execution_count": 63,
   "metadata": {
    "collapsed": false
   },
   "outputs": [],
   "source": [
    "# get all urls into a list\n",
    "photo_urls = []\n",
    "for k, v in photo_dict.items():\n",
    "    secret = photo_dict[k][0]\n",
    "    server_id = photo_dict[k][1]\n",
    "    farm_id = photo_dict[k][2]\n",
    "    photo_url = create_photo_url(farm_id, server_id, k, secret)\n",
    "#     print(photo_url)\n",
    "    photo_urls.append(photo_url)"
   ]
  },
  {
   "cell_type": "code",
   "execution_count": 65,
   "metadata": {
    "collapsed": false
   },
   "outputs": [
    {
     "data": {
      "text/plain": [
       "['https://farm3.staticflickr.com/2876/33444012305_93b916096c_q.jpg',\n",
       " 'https://farm1.staticflickr.com/770/33444010775_4122641b59_q.jpg',\n",
       " 'https://farm4.staticflickr.com/3951/33444009585_20d9f788fd_q.jpg',\n",
       " 'https://farm3.staticflickr.com/2806/32601051174_6f64208958_q.jpg',\n",
       " 'https://farm3.staticflickr.com/2811/32601050104_39ef5e28d2_q.jpg',\n",
       " 'https://farm4.staticflickr.com/3735/33444004365_272efdc7b0_q.jpg',\n",
       " 'https://farm4.staticflickr.com/3753/32601047044_ced4bec39a_q.jpg',\n",
       " 'https://farm1.staticflickr.com/594/33444001025_c15faf0f30_q.jpg',\n",
       " 'https://farm1.staticflickr.com/639/33060575860_0e5e79232c_q.jpg',\n",
       " 'https://farm1.staticflickr.com/564/32600370314_8db71866fa_q.jpg']"
      ]
     },
     "execution_count": 65,
     "metadata": {},
     "output_type": "execute_result"
    }
   ],
   "source": [
    "photo_urls[-10:]"
   ]
  },
  {
   "cell_type": "code",
   "execution_count": 66,
   "metadata": {
    "collapsed": false
   },
   "outputs": [],
   "source": [
    "path = 'data/train/mountains/'\n",
    "for url in photo_urls:\n",
    "    filename = url.split('/')[-1]\n",
    "    urllib.request.urlretrieve(url, path + filename)"
   ]
  },
  {
   "cell_type": "markdown",
   "metadata": {},
   "source": [
    "## River Photos"
   ]
  },
  {
   "cell_type": "code",
   "execution_count": 75,
   "metadata": {
    "collapsed": true
   },
   "outputs": [],
   "source": [
    "# get river photos (exclude mountain)\n",
    "page_search_photos_list = []\n",
    "for i in range(1, 3):\n",
    "    page_search_photos_list.extend(page_search_photos(i, tag='river%2C-mountain'))"
   ]
  },
  {
   "cell_type": "code",
   "execution_count": 76,
   "metadata": {
    "collapsed": false
   },
   "outputs": [
    {
     "data": {
      "text/plain": [
       "1000"
      ]
     },
     "execution_count": 76,
     "metadata": {},
     "output_type": "execute_result"
    }
   ],
   "source": [
    "# check length\n",
    "len(page_search_photos_list)"
   ]
  },
  {
   "cell_type": "code",
   "execution_count": 77,
   "metadata": {
    "collapsed": true
   },
   "outputs": [],
   "source": [
    "# make dict of photo attributes from list of urls\n",
    "photo_dict = dict(page_search_photos_list)"
   ]
  },
  {
   "cell_type": "code",
   "execution_count": 78,
   "metadata": {
    "collapsed": false
   },
   "outputs": [
    {
     "data": {
      "text/plain": [
       "996"
      ]
     },
     "execution_count": 78,
     "metadata": {},
     "output_type": "execute_result"
    }
   ],
   "source": [
    "# check length\n",
    "len(photo_dict)"
   ]
  },
  {
   "cell_type": "code",
   "execution_count": 79,
   "metadata": {
    "collapsed": false
   },
   "outputs": [],
   "source": [
    "# get all urls into a list\n",
    "photo_urls = []\n",
    "for k, v in photo_dict.items():\n",
    "    secret = photo_dict[k][0]\n",
    "    server_id = photo_dict[k][1]\n",
    "    farm_id = photo_dict[k][2]\n",
    "    photo_url = create_photo_url(farm_id, server_id, k, secret)\n",
    "#     print(photo_url)\n",
    "    photo_urls.append(photo_url)"
   ]
  },
  {
   "cell_type": "code",
   "execution_count": 80,
   "metadata": {
    "collapsed": false
   },
   "outputs": [
    {
     "data": {
      "text/plain": [
       "['https://farm4.staticflickr.com/3836/33385613561_f867d9687c_q.jpg',\n",
       " 'https://farm3.staticflickr.com/2809/33385613541_0fb3eb9d08_q.jpg',\n",
       " 'https://farm3.staticflickr.com/2871/33473110006_51e982bb15_q.jpg',\n",
       " 'https://farm4.staticflickr.com/3852/33385612971_d2c6200e19_q.jpg',\n",
       " 'https://farm4.staticflickr.com/3781/33130601790_59a74dd2df_q.jpg',\n",
       " 'https://farm4.staticflickr.com/3952/33357582942_2ceb50eb64_q.jpg',\n",
       " 'https://farm4.staticflickr.com/3856/33385612791_8fd5a36a4e_q.jpg',\n",
       " 'https://farm4.staticflickr.com/3734/32670463294_a6083fd490_q.jpg',\n",
       " 'https://farm3.staticflickr.com/2883/33473109646_090819d465_q.jpg',\n",
       " 'https://farm3.staticflickr.com/2865/33130601900_f17f9e65ee_q.jpg']"
      ]
     },
     "execution_count": 80,
     "metadata": {},
     "output_type": "execute_result"
    }
   ],
   "source": [
    "photo_urls[-10:]"
   ]
  },
  {
   "cell_type": "code",
   "execution_count": 66,
   "metadata": {
    "collapsed": false
   },
   "outputs": [],
   "source": [
    "path = 'data/train/rivers/'\n",
    "for url in photo_urls:\n",
    "    filename = url.split('/')[-1]\n",
    "    urllib.request.urlretrieve(url, path + filename)"
   ]
  },
  {
   "cell_type": "code",
   "execution_count": null,
   "metadata": {
    "collapsed": true
   },
   "outputs": [],
   "source": [
    "https://api.flickr.com/services/rest/?method=flickr.photos.search&api_key=b1a29f398b0f141f60ec190db13e8033&tags=river%2C-mountain&per_page=1000&page=1&format=rest"
   ]
  }
 ],
 "metadata": {
  "kernelspec": {
   "display_name": "Python 3",
   "language": "python",
   "name": "python3"
  },
  "language_info": {
   "codemirror_mode": {
    "name": "ipython",
    "version": 3
   },
   "file_extension": ".py",
   "mimetype": "text/x-python",
   "name": "python",
   "nbconvert_exporter": "python",
   "pygments_lexer": "ipython3",
   "version": "3.6.0"
  }
 },
 "nbformat": 4,
 "nbformat_minor": 2
}
