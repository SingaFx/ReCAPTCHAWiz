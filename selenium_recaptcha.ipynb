{
 "cells": [
  {
   "cell_type": "code",
   "execution_count": 4,
   "metadata": {
    "collapsed": false
   },
   "outputs": [],
   "source": [
    "import requests\n",
    "import io\n",
    "import random\n",
    "import time\n",
    "import os\n",
    "import sys\n",
    "import urllib\n",
    "\n",
    "# Speech Recognition Imports\n",
    "# from pydub import AudioSegment\n",
    "# import speech_recognition as sr\n",
    "\n",
    "# Selenium\n",
    "from selenium.webdriver.firefox.firefox_binary import FirefoxBinary\n",
    "from selenium.common.exceptions import NoSuchElementException\n",
    "from selenium import webdriver\n",
    "from selenium.webdriver.common.keys import Keys\n"
   ]
  },
  {
   "cell_type": "code",
   "execution_count": 73,
   "metadata": {
    "collapsed": true
   },
   "outputs": [],
   "source": [
    "# Randomization Related\n",
    "MIN_RAND        = 0.64\n",
    "MAX_RAND        = 1.27\n",
    "LONG_MIN_RAND   = 4.78\n",
    "LONG_MAX_RAND   = 11.1\n",
    "\n",
    "RECAPTCHA_PAGE_URL = \"https://www.google.com/recaptcha/api2/demo\""
   ]
  },
  {
   "cell_type": "code",
   "execution_count": 74,
   "metadata": {
    "collapsed": false
   },
   "outputs": [],
   "source": [
    "chromedriver = \"/Applications/chromedriver\"\n",
    "os.environ[\"webdriver.chrome.driver\"] = chromedriver\n",
    "\n",
    "PROXY = 'http://us-ny.proxymesh.com:31280'\n",
    "\n",
    "chrome_options = webdriver.ChromeOptions()\n",
    "chrome_options.add_argument('--proxy-server=%s' % PROXY)\n",
    "\n",
    "driver = webdriver.Chrome(chromedriver, chrome_options=chrome_options)"
   ]
  },
  {
   "cell_type": "code",
   "execution_count": 118,
   "metadata": {
    "collapsed": false
   },
   "outputs": [],
   "source": [
    "# open recaptcha demo page\n",
    "driver.get(RECAPTCHA_PAGE_URL)"
   ]
  },
  {
   "cell_type": "code",
   "execution_count": 119,
   "metadata": {
    "collapsed": false
   },
   "outputs": [
    {
     "data": {
      "text/plain": [
       "[<selenium.webdriver.remote.webelement.WebElement (session=\"68a99df8b2c179685a149117d5279987\", element=\"0.754278379226349-1\")>,\n",
       " <selenium.webdriver.remote.webelement.WebElement (session=\"68a99df8b2c179685a149117d5279987\", element=\"0.754278379226349-2\")>]"
      ]
     },
     "execution_count": 119,
     "metadata": {},
     "output_type": "execute_result"
    }
   ],
   "source": [
    "# get iframes (embedded html doc within parent html)\n",
    "iframes = driver.find_elements_by_tag_name(\"iframe\")\n",
    "iframes"
   ]
  },
  {
   "cell_type": "code",
   "execution_count": 120,
   "metadata": {
    "collapsed": false
   },
   "outputs": [],
   "source": [
    "driver.switch_to_frame(iframes[0])"
   ]
  },
  {
   "cell_type": "code",
   "execution_count": 121,
   "metadata": {
    "collapsed": false
   },
   "outputs": [],
   "source": [
    "# click I'm not a robot checkbox\n",
    "driver.find_element_by_xpath('//div[@class=\"recaptcha-checkbox-checkmark\" and @role=\"presentation\"]').click()"
   ]
  },
  {
   "cell_type": "code",
   "execution_count": 122,
   "metadata": {
    "collapsed": true
   },
   "outputs": [],
   "source": [
    "# time.sleep(random.uniform(LONG_MIN_RAND, LONG_MAX_RAND))"
   ]
  },
  {
   "cell_type": "code",
   "execution_count": 123,
   "metadata": {
    "collapsed": true
   },
   "outputs": [],
   "source": [
    "driver.switch_to.default_content()"
   ]
  },
  {
   "cell_type": "code",
   "execution_count": 124,
   "metadata": {
    "collapsed": false
   },
   "outputs": [
    {
     "data": {
      "text/plain": [
       "[<selenium.webdriver.remote.webelement.WebElement (session=\"68a99df8b2c179685a149117d5279987\", element=\"0.754278379226349-1\")>,\n",
       " <selenium.webdriver.remote.webelement.WebElement (session=\"68a99df8b2c179685a149117d5279987\", element=\"0.754278379226349-2\")>]"
      ]
     },
     "execution_count": 124,
     "metadata": {},
     "output_type": "execute_result"
    }
   ],
   "source": [
    "# reload iframes\n",
    "iframes = driver.find_elements_by_tag_name(\"iframe\")\n",
    "iframes"
   ]
  },
  {
   "cell_type": "code",
   "execution_count": 125,
   "metadata": {
    "collapsed": false
   },
   "outputs": [],
   "source": [
    "# get second (last) iframe once picture challenge is loaded\n",
    "driver.switch_to_frame(iframes[-1])"
   ]
  },
  {
   "cell_type": "code",
   "execution_count": 126,
   "metadata": {
    "collapsed": false
   },
   "outputs": [],
   "source": [
    "# click image\n",
    "# table = driver.find_element_by_xpath('//tbody/tr/td[3]').click()"
   ]
  },
  {
   "cell_type": "code",
   "execution_count": 127,
   "metadata": {
    "collapsed": false
   },
   "outputs": [],
   "source": [
    "# get table click regions\n",
    "table = driver.find_elements_by_xpath('//tbody/tr/td')\n",
    "table[5].click()"
   ]
  },
  {
   "cell_type": "code",
   "execution_count": 128,
   "metadata": {
    "collapsed": false
   },
   "outputs": [],
   "source": [
    "# click refresh button\n",
    "driver.find_element_by_xpath('//button[@id=\"recaptcha-reload-button\"]').click()"
   ]
  },
  {
   "cell_type": "code",
   "execution_count": 129,
   "metadata": {
    "collapsed": false
   },
   "outputs": [
    {
     "data": {
      "text/plain": [
       "[<selenium.webdriver.remote.webelement.WebElement (session=\"68a99df8b2c179685a149117d5279987\", element=\"0.8217816605430679-10\")>,\n",
       " <selenium.webdriver.remote.webelement.WebElement (session=\"68a99df8b2c179685a149117d5279987\", element=\"0.8217816605430679-11\")>,\n",
       " <selenium.webdriver.remote.webelement.WebElement (session=\"68a99df8b2c179685a149117d5279987\", element=\"0.8217816605430679-12\")>,\n",
       " <selenium.webdriver.remote.webelement.WebElement (session=\"68a99df8b2c179685a149117d5279987\", element=\"0.8217816605430679-13\")>,\n",
       " <selenium.webdriver.remote.webelement.WebElement (session=\"68a99df8b2c179685a149117d5279987\", element=\"0.8217816605430679-14\")>,\n",
       " <selenium.webdriver.remote.webelement.WebElement (session=\"68a99df8b2c179685a149117d5279987\", element=\"0.8217816605430679-15\")>,\n",
       " <selenium.webdriver.remote.webelement.WebElement (session=\"68a99df8b2c179685a149117d5279987\", element=\"0.8217816605430679-16\")>,\n",
       " <selenium.webdriver.remote.webelement.WebElement (session=\"68a99df8b2c179685a149117d5279987\", element=\"0.8217816605430679-17\")>,\n",
       " <selenium.webdriver.remote.webelement.WebElement (session=\"68a99df8b2c179685a149117d5279987\", element=\"0.8217816605430679-18\")>]"
      ]
     },
     "execution_count": 129,
     "metadata": {},
     "output_type": "execute_result"
    }
   ],
   "source": [
    "pictures = driver.find_elements_by_xpath('//img[@class=\"rc-image-tile-33\"]')\n",
    "pictures"
   ]
  },
  {
   "cell_type": "code",
   "execution_count": 130,
   "metadata": {
    "collapsed": false
   },
   "outputs": [],
   "source": [
    "picture_url = pictures[0].get_attribute('src')"
   ]
  },
  {
   "cell_type": "code",
   "execution_count": 131,
   "metadata": {
    "collapsed": false
   },
   "outputs": [
    {
     "data": {
      "text/plain": [
       "('test1.jpeg', <http.client.HTTPMessage at 0x1076b99b0>)"
      ]
     },
     "execution_count": 131,
     "metadata": {},
     "output_type": "execute_result"
    }
   ],
   "source": [
    "urllib.request.urlretrieve(picture_url, 'test1.jpeg')"
   ]
  },
  {
   "cell_type": "code",
   "execution_count": 134,
   "metadata": {
    "collapsed": false
   },
   "outputs": [
    {
     "data": {
      "text/plain": [
       "[<selenium.webdriver.remote.webelement.WebElement (session=\"68a99df8b2c179685a149117d5279987\", element=\"0.8217816605430679-10\")>,\n",
       " <selenium.webdriver.remote.webelement.WebElement (session=\"68a99df8b2c179685a149117d5279987\", element=\"0.8217816605430679-11\")>,\n",
       " <selenium.webdriver.remote.webelement.WebElement (session=\"68a99df8b2c179685a149117d5279987\", element=\"0.8217816605430679-19\")>,\n",
       " <selenium.webdriver.remote.webelement.WebElement (session=\"68a99df8b2c179685a149117d5279987\", element=\"0.8217816605430679-13\")>,\n",
       " <selenium.webdriver.remote.webelement.WebElement (session=\"68a99df8b2c179685a149117d5279987\", element=\"0.8217816605430679-14\")>,\n",
       " <selenium.webdriver.remote.webelement.WebElement (session=\"68a99df8b2c179685a149117d5279987\", element=\"0.8217816605430679-15\")>,\n",
       " <selenium.webdriver.remote.webelement.WebElement (session=\"68a99df8b2c179685a149117d5279987\", element=\"0.8217816605430679-16\")>,\n",
       " <selenium.webdriver.remote.webelement.WebElement (session=\"68a99df8b2c179685a149117d5279987\", element=\"0.8217816605430679-17\")>,\n",
       " <selenium.webdriver.remote.webelement.WebElement (session=\"68a99df8b2c179685a149117d5279987\", element=\"0.8217816605430679-18\")>]"
      ]
     },
     "execution_count": 134,
     "metadata": {},
     "output_type": "execute_result"
    }
   ],
   "source": [
    "pictures = driver.find_elements_by_xpath('//td//img')\n",
    "pictures"
   ]
  },
  {
   "cell_type": "code",
   "execution_count": 135,
   "metadata": {
    "collapsed": false
   },
   "outputs": [
    {
     "data": {
      "text/plain": [
       "('test1.jpeg', <http.client.HTTPMessage at 0x1076d4748>)"
      ]
     },
     "execution_count": 135,
     "metadata": {},
     "output_type": "execute_result"
    }
   ],
   "source": [
    "picture_url = pictures[2].get_attribute('src')\n",
    "urllib.request.urlretrieve(picture_url, 'test1.jpeg')"
   ]
  },
  {
   "cell_type": "code",
   "execution_count": null,
   "metadata": {
    "collapsed": true
   },
   "outputs": [],
   "source": [
    "[@class' 'style=\"transition: opacity 4s ease;\"]\n",
    "/img[@class=\"rc-image-tile-11\"]\n",
    "\n",
    "//*[@id=\"rc-imageselect-target\"]/table/tbody/tr[2]/td[3]/div/div[1]/img"
   ]
  },
  {
   "cell_type": "code",
   "execution_count": 609,
   "metadata": {
    "collapsed": false
   },
   "outputs": [
    {
     "data": {
      "text/plain": [
       "'mountains'"
      ]
     },
     "execution_count": 609,
     "metadata": {},
     "output_type": "execute_result"
    }
   ],
   "source": [
    "driver.find_element_by_xpath('//div[@class=\"rc-imageselect-desc-no-canonical\"]/strong').text"
   ]
  },
  {
   "cell_type": "code",
   "execution_count": 610,
   "metadata": {
    "collapsed": false
   },
   "outputs": [
    {
     "data": {
      "text/plain": [
       "'https://www.google.com/recaptcha/api2/payload?c=03AI-r6f6w7InxEQOskohroqHFGLWtEEriExASkRRH0s35EWQvOtBFpi0krDM-rNVffQoq3EumoKMUwdOSgJgC0G9mxppb_IKbCSFSjF9i3ZXaa7PWXp0OpT-nCg2AAlxt56DCnChPUqPQ7aRiWxAfMQTB8sxW2UAl0d_gy5bOMlqiy-q8FiiP4NF1m8EtL6jVdJXqv0poAaCx5rVbbrEJ0atrHVWFHlMMSzkGqUllsHYfwngT-gz1tGWYkOEPAyVZDFWoqLfkW9tzpZAe8J7re3QbaZf9RjErs2VrwRfzc1ZUtu0GuPhp3ndJSq38LnmSs5M-_rs-dbcigHaDDr5ldsCDlfA-DtzcAsAAHNvkA4rDhLUizKBulJdxSMh2MWGgyEOCqm1uKgb9IXmMotlZl8zPBGq6l9YVq9-yfwKwOp80PdjCdWa4f6zqlcqYwOxyLMynoGuxYyNUgf6-vj9RWhaGpih_GTXxEUZTHONOPvyhiR80thFjHCGlil8DbkX_nZ5t84xlbSOTATo2eGD_N7DhbFixjKZnUd8cSsqC0J0Mx9FgypWAQSkfNfc4Ch7cOj4-ODeUBmf5LQE_ycGSpzvXKRsE1yWb-L_FM2LwE8fE2qdmQjY2ZGbOZcBtBMochmbePMnZgiSzf25yuM2K51NmP1LLMM-p0lC8cIkLypoJsp9zTbQvgOs_8bIwqkvs59YlqJbydUTHYcMvHDcMl7lgEGl-AqoHJTSKyv882Pbnevj2WVHCt1NkGziZVnb4zlD2jT2R_J-tgc_0sQ0PdH49OnZ15iRgKgzxaCVQyeDPVYXbRWGzvWxx6dZdhC1CBsYvjc5Mq52VG5A1IpT1_vNzWNRlMJJbFdF5e_NV_ZnSdTATZSSTRbuQRyMTT2vHTdboX6CeXVxzA7Y8hxwQqW2Oymqr-Mem5Izf5au99B3irf0bVn2k-FcERTcKAA1VRelUIIfrSLR8ksoNjN9Nw8cYdLpLfaILwoLSozUuemWcbVkcWzfCeJMj6rICAOwCM_P_vtZWTZhJLRLM953IiU6By4k3t29ts8d9CDM7dfidAMUrcOaXM7MtLcJJf1C6yNOgcqRy5jUCHpLbuEJLMRQ24VvqdYViYqh1eCiLd1fFefSu2erGj9z_SKcxcT2MLDYt2OL-Tu6R2jBnUZ0ta_qD_wkkapQvvm2W9zA3e_TH8JowReHnyS4WKDt3icX6SAT3zxE34fnMaZQvpcLtC2p-LLU1ldrvg3-0juZLBsr637kq2MaOBsRLL9rHd4HHBnYmhE7pIBz1a9AdkVaPu8BnDU7doYMYQkQYEBtyg3m8currMbFeMPzy_sUgtf2iW0vHzEZpxJhNvTFf5DlInv93MVH0Hco6dbVGICx_ttmIlWFMWBLcqMYF2jMhF06Mod66xBVrVaKxJIZM2jVMGHp2a3ad2LbymM7hozXVpcj2843zSP78HKJ5F912RpSjPL6jmDrMFU2qRMfJT7OCAr-UQF_c5-hO94jVFeklKmfFvI9T_MNGlIRq0Of9e-ZtWp5bxqcWRgaR8XOx7oMWy0W92x9B1-N3k_DrXcCv7vkrExsFB0dge4PCtnk2QfplEb3_qFo1lVg1THFfTWAVDnPN4GdRyo8W7CRq8P2QcAVTXldeZkSTZn8j_mW2OnfRdu19sd6gW07q5PrBiUoPT8R69Z4UmnZTLI0OTbr9WUdLlJ9pb0rZ_VMgFXKdGvMjlKB1k8wClU66E7uf83obnFl2K3h3wFF-F3_IT4Ink3LqyaYJtdUAUY6hePXFN5HaCz7jBw_B00fGhCMPjJFGnBjELIe9p8O4mLxudnTngRFYFW7WXcJioUMbmrmhQB6UfLufmf_yKcSAvFsYdaVFwLXI_1kO8s_aeYr95U0wLVIZ2RiE7EhcWMgDkVBYkJ2QPUowFowGBbeP38akE15LncMrRDiSzt4xcXHhLg5iSO3jAkJu3PDaLVK4yoDvcmK05ALariG2uXOS0ZU5Tem_f4Cce5jdYARq7jeJcj3qOjbfRdof-XRcuKGv6foTMW-rXXQ3Qy9SfXTBrXKxAO6tSF55X6t9K9MvehnNV-m0rqLaxi-FiPO-LoW9FgURHELFzVpR1-snJXweZy4_T7uvF8NAYDTwG75us4xsbymVojPMdT3Gb2yp9YM&k=6Le-wvkSAAAAAPBMRTvw0Q4Muexq9bi0DJwx_mJ-'"
      ]
     },
     "execution_count": 610,
     "metadata": {},
     "output_type": "execute_result"
    }
   ],
   "source": [
    "driver.find_elements_by_xpath('//img[contains(@class, \"rc-image-tile-\") and contains(@src, \"https://\")]')[0].get_attribute('src')\n"
   ]
  },
  {
   "cell_type": "code",
   "execution_count": 611,
   "metadata": {
    "collapsed": false
   },
   "outputs": [
    {
     "name": "stdout",
     "output_type": "stream",
     "text": [
      "Error at loop 3424\n",
      "Error at loop 3502\n",
      "Error at loop 3587\n"
     ]
    },
    {
     "ename": "UnexpectedAlertPresentException",
     "evalue": "Alert Text: None\nMessage: unexpected alert open: {Alert text : Cannot contact reCAPTCHA. Check your connection and try again.}\n  (Session info: chrome=56.0.2924.87)\n  (Driver info: chromedriver=2.25.426935 (820a95b0b81d33e42712f9198c215f703412e1a1),platform=Mac OS X 10.12.3 x86_64)\n",
     "output_type": "error",
     "traceback": [
      "\u001b[0;31m---------------------------------------------------------------------------\u001b[0m",
      "\u001b[0;31mUnexpectedAlertPresentException\u001b[0m           Traceback (most recent call last)",
      "\u001b[0;32m<ipython-input-611-5663fe2ab29a>\u001b[0m in \u001b[0;36m<module>\u001b[0;34m()\u001b[0m\n\u001b[1;32m      2\u001b[0m \u001b[0;34m\u001b[0m\u001b[0m\n\u001b[1;32m      3\u001b[0m     \u001b[0;31m# click refresh button\u001b[0m\u001b[0;34m\u001b[0m\u001b[0;34m\u001b[0m\u001b[0m\n\u001b[0;32m----> 4\u001b[0;31m     \u001b[0mdriver\u001b[0m\u001b[0;34m.\u001b[0m\u001b[0mfind_element_by_xpath\u001b[0m\u001b[0;34m(\u001b[0m\u001b[0;34m'//button[@id=\"recaptcha-reload-button\"]'\u001b[0m\u001b[0;34m)\u001b[0m\u001b[0;34m.\u001b[0m\u001b[0mclick\u001b[0m\u001b[0;34m(\u001b[0m\u001b[0;34m)\u001b[0m\u001b[0;34m\u001b[0m\u001b[0m\n\u001b[0m\u001b[1;32m      5\u001b[0m     \u001b[0mtime\u001b[0m\u001b[0;34m.\u001b[0m\u001b[0msleep\u001b[0m\u001b[0;34m(\u001b[0m\u001b[0;36m0.5\u001b[0m\u001b[0;34m)\u001b[0m\u001b[0;34m\u001b[0m\u001b[0m\n\u001b[1;32m      6\u001b[0m \u001b[0;34m\u001b[0m\u001b[0m\n",
      "\u001b[0;32m/Users/adrienporter/anaconda3/envs/py35/lib/python3.5/site-packages/selenium/webdriver/remote/webdriver.py\u001b[0m in \u001b[0;36mfind_element_by_xpath\u001b[0;34m(self, xpath)\u001b[0m\n\u001b[1;32m    293\u001b[0m             \u001b[0mdriver\u001b[0m\u001b[0;34m.\u001b[0m\u001b[0mfind_element_by_xpath\u001b[0m\u001b[0;34m(\u001b[0m\u001b[0;34m'//div/td[1]'\u001b[0m\u001b[0;34m)\u001b[0m\u001b[0;34m\u001b[0m\u001b[0m\n\u001b[1;32m    294\u001b[0m         \"\"\"\n\u001b[0;32m--> 295\u001b[0;31m         \u001b[0;32mreturn\u001b[0m \u001b[0mself\u001b[0m\u001b[0;34m.\u001b[0m\u001b[0mfind_element\u001b[0m\u001b[0;34m(\u001b[0m\u001b[0mby\u001b[0m\u001b[0;34m=\u001b[0m\u001b[0mBy\u001b[0m\u001b[0;34m.\u001b[0m\u001b[0mXPATH\u001b[0m\u001b[0;34m,\u001b[0m \u001b[0mvalue\u001b[0m\u001b[0;34m=\u001b[0m\u001b[0mxpath\u001b[0m\u001b[0;34m)\u001b[0m\u001b[0;34m\u001b[0m\u001b[0m\n\u001b[0m\u001b[1;32m    296\u001b[0m \u001b[0;34m\u001b[0m\u001b[0m\n\u001b[1;32m    297\u001b[0m     \u001b[0;32mdef\u001b[0m \u001b[0mfind_elements_by_xpath\u001b[0m\u001b[0;34m(\u001b[0m\u001b[0mself\u001b[0m\u001b[0;34m,\u001b[0m \u001b[0mxpath\u001b[0m\u001b[0;34m)\u001b[0m\u001b[0;34m:\u001b[0m\u001b[0;34m\u001b[0m\u001b[0m\n",
      "\u001b[0;32m/Users/adrienporter/anaconda3/envs/py35/lib/python3.5/site-packages/selenium/webdriver/remote/webdriver.py\u001b[0m in \u001b[0;36mfind_element\u001b[0;34m(self, by, value)\u001b[0m\n\u001b[1;32m    754\u001b[0m         return self.execute(Command.FIND_ELEMENT, {\n\u001b[1;32m    755\u001b[0m             \u001b[0;34m'using'\u001b[0m\u001b[0;34m:\u001b[0m \u001b[0mby\u001b[0m\u001b[0;34m,\u001b[0m\u001b[0;34m\u001b[0m\u001b[0m\n\u001b[0;32m--> 756\u001b[0;31m             'value': value})['value']\n\u001b[0m\u001b[1;32m    757\u001b[0m \u001b[0;34m\u001b[0m\u001b[0m\n\u001b[1;32m    758\u001b[0m     \u001b[0;32mdef\u001b[0m \u001b[0mfind_elements\u001b[0m\u001b[0;34m(\u001b[0m\u001b[0mself\u001b[0m\u001b[0;34m,\u001b[0m \u001b[0mby\u001b[0m\u001b[0;34m=\u001b[0m\u001b[0mBy\u001b[0m\u001b[0;34m.\u001b[0m\u001b[0mID\u001b[0m\u001b[0;34m,\u001b[0m \u001b[0mvalue\u001b[0m\u001b[0;34m=\u001b[0m\u001b[0;32mNone\u001b[0m\u001b[0;34m)\u001b[0m\u001b[0;34m:\u001b[0m\u001b[0;34m\u001b[0m\u001b[0m\n",
      "\u001b[0;32m/Users/adrienporter/anaconda3/envs/py35/lib/python3.5/site-packages/selenium/webdriver/remote/webdriver.py\u001b[0m in \u001b[0;36mexecute\u001b[0;34m(self, driver_command, params)\u001b[0m\n\u001b[1;32m    236\u001b[0m         \u001b[0mresponse\u001b[0m \u001b[0;34m=\u001b[0m \u001b[0mself\u001b[0m\u001b[0;34m.\u001b[0m\u001b[0mcommand_executor\u001b[0m\u001b[0;34m.\u001b[0m\u001b[0mexecute\u001b[0m\u001b[0;34m(\u001b[0m\u001b[0mdriver_command\u001b[0m\u001b[0;34m,\u001b[0m \u001b[0mparams\u001b[0m\u001b[0;34m)\u001b[0m\u001b[0;34m\u001b[0m\u001b[0m\n\u001b[1;32m    237\u001b[0m         \u001b[0;32mif\u001b[0m \u001b[0mresponse\u001b[0m\u001b[0;34m:\u001b[0m\u001b[0;34m\u001b[0m\u001b[0m\n\u001b[0;32m--> 238\u001b[0;31m             \u001b[0mself\u001b[0m\u001b[0;34m.\u001b[0m\u001b[0merror_handler\u001b[0m\u001b[0;34m.\u001b[0m\u001b[0mcheck_response\u001b[0m\u001b[0;34m(\u001b[0m\u001b[0mresponse\u001b[0m\u001b[0;34m)\u001b[0m\u001b[0;34m\u001b[0m\u001b[0m\n\u001b[0m\u001b[1;32m    239\u001b[0m             response['value'] = self._unwrap_value(\n\u001b[1;32m    240\u001b[0m                 response.get('value', None))\n",
      "\u001b[0;32m/Users/adrienporter/anaconda3/envs/py35/lib/python3.5/site-packages/selenium/webdriver/remote/errorhandler.py\u001b[0m in \u001b[0;36mcheck_response\u001b[0;34m(self, response)\u001b[0m\n\u001b[1;32m    191\u001b[0m         \u001b[0;32melif\u001b[0m \u001b[0mexception_class\u001b[0m \u001b[0;34m==\u001b[0m \u001b[0mUnexpectedAlertPresentException\u001b[0m \u001b[0;32mand\u001b[0m \u001b[0;34m'alert'\u001b[0m \u001b[0;32min\u001b[0m \u001b[0mvalue\u001b[0m\u001b[0;34m:\u001b[0m\u001b[0;34m\u001b[0m\u001b[0m\n\u001b[1;32m    192\u001b[0m             \u001b[0;32mraise\u001b[0m \u001b[0mexception_class\u001b[0m\u001b[0;34m(\u001b[0m\u001b[0mmessage\u001b[0m\u001b[0;34m,\u001b[0m \u001b[0mscreen\u001b[0m\u001b[0;34m,\u001b[0m \u001b[0mstacktrace\u001b[0m\u001b[0;34m,\u001b[0m \u001b[0mvalue\u001b[0m\u001b[0;34m[\u001b[0m\u001b[0;34m'alert'\u001b[0m\u001b[0;34m]\u001b[0m\u001b[0;34m.\u001b[0m\u001b[0mget\u001b[0m\u001b[0;34m(\u001b[0m\u001b[0;34m'text'\u001b[0m\u001b[0;34m)\u001b[0m\u001b[0;34m)\u001b[0m\u001b[0;34m\u001b[0m\u001b[0m\n\u001b[0;32m--> 193\u001b[0;31m         \u001b[0;32mraise\u001b[0m \u001b[0mexception_class\u001b[0m\u001b[0;34m(\u001b[0m\u001b[0mmessage\u001b[0m\u001b[0;34m,\u001b[0m \u001b[0mscreen\u001b[0m\u001b[0;34m,\u001b[0m \u001b[0mstacktrace\u001b[0m\u001b[0;34m)\u001b[0m\u001b[0;34m\u001b[0m\u001b[0m\n\u001b[0m\u001b[1;32m    194\u001b[0m \u001b[0;34m\u001b[0m\u001b[0m\n\u001b[1;32m    195\u001b[0m     \u001b[0;32mdef\u001b[0m \u001b[0m_value_or_default\u001b[0m\u001b[0;34m(\u001b[0m\u001b[0mself\u001b[0m\u001b[0;34m,\u001b[0m \u001b[0mobj\u001b[0m\u001b[0;34m,\u001b[0m \u001b[0mkey\u001b[0m\u001b[0;34m,\u001b[0m \u001b[0mdefault\u001b[0m\u001b[0;34m)\u001b[0m\u001b[0;34m:\u001b[0m\u001b[0;34m\u001b[0m\u001b[0m\n",
      "\u001b[0;31mUnexpectedAlertPresentException\u001b[0m: Alert Text: None\nMessage: unexpected alert open: {Alert text : Cannot contact reCAPTCHA. Check your connection and try again.}\n  (Session info: chrome=56.0.2924.87)\n  (Driver info: chromedriver=2.25.426935 (820a95b0b81d33e42712f9198c215f703412e1a1),platform=Mac OS X 10.12.3 x86_64)\n"
     ]
    }
   ],
   "source": [
    "for i in range(2705, 10000):\n",
    "    \n",
    "    # click refresh button\n",
    "    driver.find_element_by_xpath('//button[@id=\"recaptcha-reload-button\"]').click()\n",
    "    time.sleep(0.5)\n",
    "    \n",
    "    try:\n",
    "        challenge_type = driver.find_element_by_xpath('//div[@class=\"rc-imageselect-desc-no-canonical\"]/strong').text\n",
    "\n",
    "        if challenge_type == 'street numbers':\n",
    "            path = 'recaptchapics_source/street_numbers/'\n",
    "            filename = 'street_numbers%s.jpeg' % i\n",
    "\n",
    "        elif challenge_type == 'mountains':\n",
    "            path = 'recaptchapics_source/mountains/'\n",
    "            filename = 'mountains%s.jpeg' % i\n",
    "\n",
    "        elif challenge_type == 'street signs':\n",
    "            path = 'recaptchapics_source/street_signs/'\n",
    "            filename = 'streetsigns%s.jpeg' % i\n",
    "\n",
    "        elif challenge_type == 'rivers':\n",
    "            path = 'recaptchapics_source/rivers/'\n",
    "            filename = 'rivers%s.jpeg' % i\n",
    "\n",
    "        elif challenge_type == 'store front':\n",
    "            path = 'recaptchapics_source/store_fronts/'\n",
    "            filename = 'storefronts%s.jpeg' % i\n",
    "\n",
    "\n",
    "    #     pictures = driver.find_elements_by_xpath('//img[@class=\"rc-image-tile-33\"]')\n",
    "        picture_url = driver.find_elements_by_xpath('//img[contains(@class, \"rc-image-tile-\")\\\n",
    "                                                    and contains(@src, \"https://\")]')[0].get_attribute('src')\n",
    "        urllib.request.urlretrieve(picture_url, path + filename)\n",
    "\n",
    "    except:\n",
    "        print('Error at loop %s' % i)\n",
    "        continue"
   ]
  },
  {
   "cell_type": "code",
   "execution_count": null,
   "metadata": {
    "collapsed": true
   },
   "outputs": [],
   "source": []
  }
 ],
 "metadata": {
  "kernelspec": {
   "display_name": "Python 3",
   "language": "python",
   "name": "python3"
  },
  "language_info": {
   "codemirror_mode": {
    "name": "ipython",
    "version": 3
   },
   "file_extension": ".py",
   "mimetype": "text/x-python",
   "name": "python",
   "nbconvert_exporter": "python",
   "pygments_lexer": "ipython3",
   "version": "3.5.2"
  }
 },
 "nbformat": 4,
 "nbformat_minor": 0
}
